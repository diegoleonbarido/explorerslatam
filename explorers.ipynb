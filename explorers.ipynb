{
 "cells": [
  {
   "cell_type": "code",
   "execution_count": 59,
   "metadata": {},
   "outputs": [],
   "source": [
    "import pandas as pd\n",
    "import re\n",
    "import ast"
   ]
  },
  {
   "cell_type": "code",
   "execution_count": null,
   "metadata": {},
   "outputs": [],
   "source": []
  },
  {
   "cell_type": "code",
   "execution_count": 152,
   "metadata": {},
   "outputs": [],
   "source": [
    "# Read and format data before beginning\n",
    "explorers = pd.read_csv(\"/Users/diego/Desktop/Projects_Code/explorerslatam/data_Donde estan los exploradores_ (Responses) - Form Responses 1.csv\",encoding = \"ISO-8859-1\")\n",
    "\n",
    "# Format data\n",
    "explorers.columns = ['timestamp','email','name','description','latlong','link']\n",
    "explorers['latlong'] = explorers['latlong'].str.strip()\n",
    "\n",
    "clean_locations = []\n",
    "\n",
    "for location_lat_long in explorers['latlong']:\n",
    "    try:\n",
    "        clean_locations.append(location_lat_long.strip(\",\").strip())\n",
    "    except:\n",
    "        pass\n",
    "    \n",
    "explorers['latlong'][0:82] = clean_locations\n",
    "    \n",
    "\n",
    "\n"
   ]
  },
  {
   "cell_type": "code",
   "execution_count": null,
   "metadata": {},
   "outputs": [],
   "source": []
  },
  {
   "cell_type": "code",
   "execution_count": null,
   "metadata": {},
   "outputs": [],
   "source": []
  },
  {
   "cell_type": "code",
   "execution_count": 142,
   "metadata": {},
   "outputs": [
    {
     "ename": "SyntaxError",
     "evalue": "invalid syntax (<ipython-input-142-2d7815cfb2c7>, line 3)",
     "output_type": "error",
     "traceback": [
      "\u001b[0;36m  File \u001b[0;32m\"<ipython-input-142-2d7815cfb2c7>\"\u001b[0;36m, line \u001b[0;32m3\u001b[0m\n\u001b[0;31m    \"type\": \"Feature\",\u001b[0m\n\u001b[0m                     ^\u001b[0m\n\u001b[0;31mSyntaxError\u001b[0m\u001b[0;31m:\u001b[0m invalid syntax\n"
     ]
    }
   ],
   "source": [
    "\n",
    ",{\n",
    "\"type\": \"Feature\",\n",
    "\"properties\": {\n",
    "\"description\": \"<strong>Sara Pineda</strong><p>Sustentabilidad.\tCartografía participativa en Áreas Protegidas.</p>\",\n",
    "\"URL\":'<a href=\"https://www.cnn.com/\" target=\"_blank\"> Visit W3Schools</a>',\n",
    "\"icon\": \"circle\"\n",
    "},\n",
    "\"geometry\": {\n",
    "\"type\": \"Point\",\n",
    "\"coordinates\": [-87.4225,  20.9606]\n",
    "}\n",
    "}\n",
    "\n"
   ]
  },
  {
   "cell_type": "code",
   "execution_count": null,
   "metadata": {},
   "outputs": [],
   "source": []
  },
  {
   "cell_type": "code",
   "execution_count": 153,
   "metadata": {},
   "outputs": [],
   "source": [
    "\n",
    "def write_string(name,description,URL,latlong):\n",
    "    part1 = \",{\"\n",
    "    part2 = '\"type\": \"Feature\",'\n",
    "    part3 = '\"properties\": {'\n",
    "    part4 = '\"description\": ' + '\"<strong>' + name + '</strong><p>' + description + '.</p>\",'\n",
    "    part5 = '\"URL\"' + \":'<a href=\" + '\"' + URL  + '\"' + ' target=\"_blank\">' + URL + \"</a>',\"\n",
    "    part6 = '\"icon\": \"circle\"'\n",
    "    part7 = '},'\n",
    "    part8 = '\"geometry\": {'\n",
    "    part9 = '\"type\": \"Point\",'\n",
    "    part10 = '\"coordinates\":' + \"[\" + str(latlong[1]) + \",\" + str(latlong[0]) + \"]\"\n",
    "    part11 = \"}\"\n",
    "    part12 = \"}\"\n",
    "    \n",
    "    html_text = part1 + part2 + part3 + part4 + part5 + part6 + part7 + part8 + part9 + part10 + part11 + part12\n",
    "    return(html_text)\n"
   ]
  },
  {
   "cell_type": "code",
   "execution_count": null,
   "metadata": {},
   "outputs": [],
   "source": []
  },
  {
   "cell_type": "code",
   "execution_count": null,
   "metadata": {},
   "outputs": [],
   "source": []
  },
  {
   "cell_type": "code",
   "execution_count": null,
   "metadata": {},
   "outputs": [],
   "source": []
  },
  {
   "cell_type": "code",
   "execution_count": null,
   "metadata": {},
   "outputs": [],
   "source": []
  },
  {
   "cell_type": "code",
   "execution_count": 154,
   "metadata": {},
   "outputs": [],
   "source": [
    "names = explorers['name']\n",
    "\n",
    "\n",
    "html_text_list = []\n",
    "for i, explorer in enumerate(names):\n",
    "    try:\n",
    "        name = explorers['name'][i]\n",
    "        description =  explorers[\"description\"][i]\n",
    "        URL = explorers[\"link\"][i] \n",
    "\n",
    "        if isinstance(URL, str) is True:\n",
    "            URL =  URL\n",
    "        else:\n",
    "            URL = \"NaN\"\n",
    "\n",
    "        latlong = explorers[\"latlong\"][i].split(\",\")\n",
    "        html_string = write_string(name,description,URL,latlong)\n",
    "        html_text_list.append(html_string)            \n",
    "        \n",
    "    except:\n",
    "        pass\n",
    "        "
   ]
  },
  {
   "cell_type": "code",
   "execution_count": 155,
   "metadata": {},
   "outputs": [
    {
     "name": "stdout",
     "output_type": "stream",
     "text": [
      ",{\"type\": \"Feature\",\"properties\": {\"description\": \"<strong>Catalina Velasco</strong><p>Ciencia. Ecologia de bosques de kelps.</p>\",\"URL\":'<a href=\"@cata.fotosub (instagram)\" target=\"_blank\">@cata.fotosub (instagram)</a>',\"icon\": \"circle\"},\"geometry\": {\"type\": \"Point\",\"coordinates\":[ -70.91,-53.62]}}\n",
      " \n",
      ",{\"type\": \"Feature\",\"properties\": {\"description\": \"<strong>Nicolas Perez</strong><p>Geology. Uplift of the Northern Andes.</p>\",\"URL\":'<a href=\"NaN\" target=\"_blank\">NaN</a>',\"icon\": \"circle\"},\"geometry\": {\"type\": \"Point\",\"coordinates\":[ -76.839225,1.011722]}}\n",
      " \n",
      ",{\"type\": \"Feature\",\"properties\": {\"description\": \"<strong>Nicolas Perez</strong><p>Geology. Uplift of the Northern Andes.</p>\",\"URL\":'<a href=\"NaN\" target=\"_blank\">NaN</a>',\"icon\": \"circle\"},\"geometry\": {\"type\": \"Point\",\"coordinates\":[ -75.828746,6.945310]}}\n",
      " \n",
      ",{\"type\": \"Feature\",\"properties\": {\"description\": \"<strong>Elton John de Lirio</strong><p>Systematics, Conservation and Evolution of Plants.</p>\",\"URL\":'<a href=\"https://www.instagram.com/lirioeltonj/?hl=pt\" target=\"_blank\">https://www.instagram.com/lirioeltonj/?hl=pt</a>',\"icon\": \"circle\"},\"geometry\": {\"type\": \"Point\",\"coordinates\":[ -46.731442,-23.565060]}}\n",
      " \n",
      ",{\"type\": \"Feature\",\"properties\": {\"description\": \"<strong>Mauricio Cantor</strong><p>Ecology of interactions among predators.</p>\",\"URL\":'<a href=\"NaN\" target=\"_blank\">NaN</a>',\"icon\": \"circle\"},\"geometry\": {\"type\": \"Point\",\"coordinates\":[ -48.833,-28.333]}}\n",
      " \n",
      ",{\"type\": \"Feature\",\"properties\": {\"description\": \"<strong>Karen DeMatteo</strong><p>Ecologia Aplicada - Conservacion de Carnivoros / Presas en el Bosque Atlantico.</p>\",\"URL\":'<a href=\"www.facebook.com/gotscat\" target=\"_blank\">www.facebook.com/gotscat</a>',\"icon\": \"circle\"},\"geometry\": {\"type\": \"Point\",\"coordinates\":[ -53.913,-26.383]}}\n",
      " \n",
      ",{\"type\": \"Feature\",\"properties\": {\"description\": \"<strong>Ramiro Barberena</strong><p>Arqueologia y biogeografia humana en los Andes.</p>\",\"URL\":'<a href=\"NaN\" target=\"_blank\">NaN</a>',\"icon\": \"circle\"},\"geometry\": {\"type\": \"Point\",\"coordinates\":[ -69.364833,-32.605006]}}\n",
      " \n",
      ",{\"type\": \"Feature\",\"properties\": {\"description\": \"<strong>Ramiro Barberena</strong><p>Arqueologia y biogeografia humana en los Andes.</p>\",\"URL\":'<a href=\"NaN\" target=\"_blank\">NaN</a>',\"icon\": \"circle\"},\"geometry\": {\"type\": \"Point\",\"coordinates\":[ -69.702353,-34.232301]}}\n",
      " \n",
      ",{\"type\": \"Feature\",\"properties\": {\"description\": \"<strong>Denise Pozzi-Escot</strong><p>Pachacamac: Descubriendo mi Museo. Educational workshops for local children in an archaeological site museum.</p>\",\"URL\":'<a href=\"https://www.instagram.com/museopachacamac/\" target=\"_blank\">https://www.instagram.com/museopachacamac/</a>',\"icon\": \"circle\"},\"geometry\": {\"type\": \"Point\",\"coordinates\":[-76.899451,-12.259084]}}\n",
      " \n",
      ",{\"type\": \"Feature\",\"properties\": {\"description\": \"<strong>Helder Espirito-Santo</strong><p>Ciencia Pura. Ecology of freshwater and estuarine fish..</p>\",\"URL\":'<a href=\"@peixiencia\" target=\"_blank\">@peixiencia</a>',\"icon\": \"circle\"},\"geometry\": {\"type\": \"Point\",\"coordinates\":[-50.462313,2.128087]}}\n",
      " \n",
      ",{\"type\": \"Feature\",\"properties\": {\"description\": \"<strong>Helder Espirito-Santo</strong><p>Ciencia Pura. Ecology of freshwater and estuarine fish..</p>\",\"URL\":'<a href=\"@peixiencia\" target=\"_blank\">@peixiencia</a>',\"icon\": \"circle\"},\"geometry\": {\"type\": \"Point\",\"coordinates\":[ -48.5118042,-0.6310678]}}\n",
      " \n",
      ",{\"type\": \"Feature\",\"properties\": {\"description\": \"<strong>Helder Espirito-Santo</strong><p>Ciencia Pura. Ecology of freshwater and estuarine fish..</p>\",\"URL\":'<a href=\"@peixiencia\" target=\"_blank\">@peixiencia</a>',\"icon\": \"circle\"},\"geometry\": {\"type\": \"Point\",\"coordinates\":[-35.236333,-5.676278]}}\n",
      " \n",
      ",{\"type\": \"Feature\",\"properties\": {\"description\": \"<strong>Helder Espirito-Santo</strong><p>Ciencia Pura. Ecology of freshwater and estuarine fish..</p>\",\"URL\":'<a href=\"@peixiencia\" target=\"_blank\">@peixiencia</a>',\"icon\": \"circle\"},\"geometry\": {\"type\": \"Point\",\"coordinates\":[ -59.9673610,-2.9475692]}}\n",
      " \n",
      ",{\"type\": \"Feature\",\"properties\": {\"description\": \"<strong>Silvana Gallegos Sanchez</strong><p>PhD student working in Freshwater ecology in Andean Ecosystems. .</p>\",\"URL\":'<a href=\"@selvagasan;  https://ibn.conicet.gov.ar\" target=\"_blank\">@selvagasan;  https://ibn.conicet.gov.ar</a>',\"icon\": \"circle\"},\"geometry\": {\"type\": \"Point\",\"coordinates\":[-78.151026,-0.360409]}}\n",
      " \n",
      ",{\"type\": \"Feature\",\"properties\": {\"description\": \"<strong>Silvana Gallegos Sanchez</strong><p>PhD student working in Freshwater ecology in Andean Ecosystems. .</p>\",\"URL\":'<a href=\"@selvagasan;  https://ibn.conicet.gov.ar\" target=\"_blank\">@selvagasan;  https://ibn.conicet.gov.ar</a>',\"icon\": \"circle\"},\"geometry\": {\"type\": \"Point\",\"coordinates\":[ -65.325208,-26.776722]}}\n",
      " \n",
      ",{\"type\": \"Feature\",\"properties\": {\"description\": \"<strong>Jens</strong><p>Antropologia ambiental. Estudio de la relacion entre humanos y rios..</p>\",\"URL\":'<a href=\"https://bestiasdelsursalvaje.org/\" target=\"_blank\">https://bestiasdelsursalvaje.org/</a>',\"icon\": \"circle\"},\"geometry\": {\"type\": \"Point\",\"coordinates\":[ -71.64,-37.88]}}\n",
      " \n",
      ",{\"type\": \"Feature\",\"properties\": {\"description\": \"<strong>Pedro Peloso</strong><p>Biodiversity. Documentation and Conservation..</p>\",\"URL\":'<a href=\"instagram (@pedro_peloso)\" target=\"_blank\">instagram (@pedro_peloso)</a>',\"icon\": \"circle\"},\"geometry\": {\"type\": \"Point\",\"coordinates\":[-48.4782699,-1.3308403]}}\n",
      " \n",
      ",{\"type\": \"Feature\",\"properties\": {\"description\": \"<strong>Silvia Pavan</strong><p>Biologist, researcher. Diversity of South American mammals.</p>\",\"URL\":'<a href=\"www.facebook.com/silvia.e.pavan\" target=\"_blank\">www.facebook.com/silvia.e.pavan</a>',\"icon\": \"circle\"},\"geometry\": {\"type\": \"Point\",\"coordinates\":[ -48.4902,-1.4557]}}\n",
      " \n",
      ",{\"type\": \"Feature\",\"properties\": {\"description\": \"<strong>Silvia Pavan</strong><p>Biologist, researcher. Diversity of South American mammals.</p>\",\"URL\":'<a href=\"www.facebook.com/silvia.e.pavan\" target=\"_blank\">www.facebook.com/silvia.e.pavan</a>',\"icon\": \"circle\"},\"geometry\": {\"type\": \"Point\",\"coordinates\":[ -77.39415,-7.58977]}}\n",
      " \n",
      ",{\"type\": \"Feature\",\"properties\": {\"description\": \"<strong>Rosa Vasquez</strong><p>Research and storytelling. Chemistry and Biology of Amazonian microbes..</p>\",\"URL\":'<a href=\"rosavasqueze\" target=\"_blank\">rosavasqueze</a>',\"icon\": \"circle\"},\"geometry\": {\"type\": \"Point\",\"coordinates\":[ -83.7457,42.2230]}}\n",
      " \n",
      ",{\"type\": \"Feature\",\"properties\": {\"description\": \"<strong>Rosa Vasquez</strong><p>Research and storytelling. Chemistry and Biology of Amazonian microbes..</p>\",\"URL\":'<a href=\"rosavasqueze\" target=\"_blank\">rosavasqueze</a>',\"icon\": \"circle\"},\"geometry\": {\"type\": \"Point\",\"coordinates\":[ 76.2411,9.9208]}}\n",
      " \n",
      ",{\"type\": \"Feature\",\"properties\": {\"description\": \"<strong>Paola Rodriguez Troncoso</strong><p>Science conservation. Coral reef Ecology .</p>\",\"URL\":'<a href=\"@pao_rdgzt\" target=\"_blank\">@pao_rdgzt</a>',\"icon\": \"circle\"},\"geometry\": {\"type\": \"Point\",\"coordinates\":[  -105.228077,20.631045]}}\n",
      " \n",
      ",{\"type\": \"Feature\",\"properties\": {\"description\": \"<strong>Paola Rodriguez Troncoso</strong><p>Science conservation. Coral reef Ecology .</p>\",\"URL\":'<a href=\"@pao_rdgzt\" target=\"_blank\">@pao_rdgzt</a>',\"icon\": \"circle\"},\"geometry\": {\"type\": \"Point\",\"coordinates\":[ -104.7115373,19.2250984]}}\n",
      " \n",
      ",{\"type\": \"Feature\",\"properties\": {\"description\": \"<strong>Paola Rodriguez Troncoso</strong><p>Science conservation. Coral reef Ecology .</p>\",\"URL\":'<a href=\"@pao_rdgzt\" target=\"_blank\">@pao_rdgzt</a>',\"icon\": \"circle\"},\"geometry\": {\"type\": \"Point\",\"coordinates\":[ -106.422017505438,21.4584858]}}\n",
      " \n",
      ",{\"type\": \"Feature\",\"properties\": {\"description\": \"<strong>Cristian Lagger</strong><p>Investigacion y Fotografia submarina. Ecologia Marina y Cambio Climatico. Ecologia de comunidades bentonicas. .</p>\",\"URL\":'<a href=\"@laggercristian (IG)\" target=\"_blank\">@laggercristian (IG)</a>',\"icon\": \"circle\"},\"geometry\": {\"type\": \"Point\",\"coordinates\":[-64.1810500,-31.4135000]}}\n",
      " \n",
      ",{\"type\": \"Feature\",\"properties\": {\"description\": \"<strong>Cristian Lagger</strong><p>Investigacion y Fotografia submarina. Ecologia Marina y Cambio Climatico. Ecologia de comunidades bentonicas. .</p>\",\"URL\":'<a href=\"@laggercristian (IG)\" target=\"_blank\">@laggercristian (IG)</a>',\"icon\": \"circle\"},\"geometry\": {\"type\": \"Point\",\"coordinates\":[-62.2333333,-58.666666666666664]}}\n",
      " \n",
      ",{\"type\": \"Feature\",\"properties\": {\"description\": \"<strong>Victor Salinas Silva</strong><p>Educacion geografica. Profesores rurales y territorialidad.</p>\",\"URL\":'<a href=\"https://storymaps.arcgis.com/stories/c1cd72fbe8964729a85a0ae37a6dff17\" target=\"_blank\">https://storymaps.arcgis.com/stories/c1cd72fbe8964729a85a0ae37a6dff17</a>',\"icon\": \"circle\"},\"geometry\": {\"type\": \"Point\",\"coordinates\":[ -70.466415,-34.264544]}}\n",
      " \n",
      ",{\"type\": \"Feature\",\"properties\": {\"description\": \"<strong>Sebastian Apesteguia</strong><p>Earth Sciences, Vertebrate Paleontology.</p>\",\"URL\":'<a href=\"NaN\" target=\"_blank\">NaN</a>',\"icon\": \"circle\"},\"geometry\": {\"type\": \"Point\",\"coordinates\":[ 68.6802,39.6145]}}\n",
      " \n",
      ",{\"type\": \"Feature\",\"properties\": {\"description\": \"<strong>Sebastian Apesteguia</strong><p>Earth Sciences, Vertebrate Paleontology.</p>\",\"URL\":'<a href=\"NaN\" target=\"_blank\">NaN</a>',\"icon\": \"circle\"},\"geometry\": {\"type\": \"Point\",\"coordinates\":[ 68.6101,39.7206]}}\n",
      " \n",
      ",{\"type\": \"Feature\",\"properties\": {\"description\": \"<strong>Sebastian Apesteguia</strong><p>Earth Sciences, Vertebrate Paleontology.</p>\",\"URL\":'<a href=\"NaN\" target=\"_blank\">NaN</a>',\"icon\": \"circle\"},\"geometry\": {\"type\": \"Point\",\"coordinates\":[ 58.4409,34.6103]}}\n",
      " \n",
      ",{\"type\": \"Feature\",\"properties\": {\"description\": \"<strong>Clara Fortes BrandÌ£o</strong><p>Anthropology; Indigenous Ethnology..</p>\",\"URL\":'<a href=\"@clarafortesbrandao\" target=\"_blank\">@clarafortesbrandao</a>',\"icon\": \"circle\"},\"geometry\": {\"type\": \"Point\",\"coordinates\":[ -52.941484,-9.988183]}}\n",
      " \n",
      ",{\"type\": \"Feature\",\"properties\": {\"description\": \"<strong>Ricardo Azarcoya</strong><p>Fotografo documental enfocado a proyectos en comunidades indigenas y de conservacion.</p>\",\"URL\":'<a href=\"https://www.instagram.com/rikky.azarcoya/\" target=\"_blank\">https://www.instagram.com/rikky.azarcoya/</a>',\"icon\": \"circle\"},\"geometry\": {\"type\": \"Point\",\"coordinates\":[ -99.6675828,21.3110903]}}\n",
      " \n",
      ",{\"type\": \"Feature\",\"properties\": {\"description\": \"<strong>Ricardo Azarcoya</strong><p>Fotografo documental enfocado a proyectos en comunidades indigenas y de conservacion.</p>\",\"URL\":'<a href=\"https://www.instagram.com/rikky.azarcoya/\" target=\"_blank\">https://www.instagram.com/rikky.azarcoya/</a>',\"icon\": \"circle\"},\"geometry\": {\"type\": \"Point\",\"coordinates\":[ -65.118811,-54.657931]}}\n",
      " \n",
      ",{\"type\": \"Feature\",\"properties\": {\"description\": \"<strong>Ricardo Azarcoya</strong><p>Fotografo documental enfocado a proyectos en comunidades indigenas y de conservacion.</p>\",\"URL\":'<a href=\"https://www.instagram.com/rikky.azarcoya/\" target=\"_blank\">https://www.instagram.com/rikky.azarcoya/</a>',\"icon\": \"circle\"},\"geometry\": {\"type\": \"Point\",\"coordinates\":[ -91.581321,16.977262]}}\n",
      " \n",
      ",{\"type\": \"Feature\",\"properties\": {\"description\": \"<strong>Andreu Rico</strong><p>Conservacion. Riesgos ecologicos de la contaminacion en el Rio Amazonas.</p>\",\"URL\":'<a href=\"www.silentamazon.com\" target=\"_blank\">www.silentamazon.com</a>',\"icon\": \"circle\"},\"geometry\": {\"type\": \"Point\",\"coordinates\":[ -59.96666667,-3.15893056]}}\n",
      " \n",
      ",{\"type\": \"Feature\",\"properties\": {\"description\": \"<strong>Juan Arias</strong><p>Storytelling.  Cultural practices vs. Conservation.</p>\",\"URL\":'<a href=\"www.instagram.com/juan_punto\" target=\"_blank\">www.instagram.com/juan_punto</a>',\"icon\": \"circle\"},\"geometry\": {\"type\": \"Point\",\"coordinates\":[ -76.532630,3.454309]}}\n",
      " \n",
      ",{\"type\": \"Feature\",\"properties\": {\"description\": \"<strong>Juan Arias</strong><p>Storytelling.  Cultural practices vs. Conservation.</p>\",\"URL\":'<a href=\"www.instagram.com/juan_punto\" target=\"_blank\">www.instagram.com/juan_punto</a>',\"icon\": \"circle\"},\"geometry\": {\"type\": \"Point\",\"coordinates\":[-75.504329,10.382469]}}\n",
      " \n",
      ",{\"type\": \"Feature\",\"properties\": {\"description\": \"<strong>Agustina Besada</strong><p>Educacion x inspiracion. Desplastificacion. Rediseno de relacion humana con el Plastico..</p>\",\"URL\":'<a href=\"instagram @unplastify\" target=\"_blank\">instagram @unplastify</a>',\"icon\": \"circle\"},\"geometry\": {\"type\": \"Point\",\"coordinates\":[ -58.3816,-34.6037]}}\n",
      " \n",
      ",{\"type\": \"Feature\",\"properties\": {\"description\": \"<strong>Lia  Nahomi Kajiki</strong><p>Ciencia Pura, Behavioural Ecology, Sexual Selection and Mating Systems of Neotropical Birds.</p>\",\"URL\":'<a href=\"http://liakajiki.webflow.io/\" target=\"_blank\">http://liakajiki.webflow.io/</a>',\"icon\": \"circle\"},\"geometry\": {\"type\": \"Point\",\"coordinates\":[ -47.939540,-15.953650]}}\n",
      " \n",
      ",{\"type\": \"Feature\",\"properties\": {\"description\": \"<strong>Juliana M Ferreira</strong><p>counter wildlife trafficking / combate ao trafico de silvestres.</p>\",\"URL\":'<a href=\"https://www.instagram.com/freelandbrasil/  https://www.facebook.com/freelandbrasil/  www.freeland.org.br\" target=\"_blank\">https://www.instagram.com/freelandbrasil/  https://www.facebook.com/freelandbrasil/  www.freeland.org.br</a>',\"icon\": \"circle\"},\"geometry\": {\"type\": \"Point\",\"coordinates\":[ -46.6388,-23.5489]}}\n",
      " \n",
      ",{\"type\": \"Feature\",\"properties\": {\"description\": \"<strong>Janni Benavides</strong><p>Educacion, Storytelling. MÌ¼sica y arte para el conocimiento de los ecosistemas tropicales, su biodiversidad y sus culturas indigenas..</p>\",\"URL\":'<a href=\"@jacanajacana\" target=\"_blank\">@jacanajacana</a>',\"icon\": \"circle\"},\"geometry\": {\"type\": \"Point\",\"coordinates\":[ -74.107216,11.145838]}}\n",
      " \n",
      ",{\"type\": \"Feature\",\"properties\": {\"description\": \"<strong>Ruth Metzel</strong><p>La Fundacion Pro Eco Azuero trabajamos en restauracion de ecosistemas, manejo sostenible de tierras, reforestacion y educacion ambiental en la peninsula de Azuero, Panama. .</p>\",\"URL\":'<a href=\"@proecoazuero en insta, facebook, twitter, https://www.youtube.com/channel/UCn2BLy-s-fiiNZVz12T_yAw\" target=\"_blank\">@proecoazuero en insta, facebook, twitter, https://www.youtube.com/channel/UCn2BLy-s-fiiNZVz12T_yAw</a>',\"icon\": \"circle\"},\"geometry\": {\"type\": \"Point\",\"coordinates\":[ -80.025230,7.534466]}}\n",
      " \n",
      ",{\"type\": \"Feature\",\"properties\": {\"description\": \"<strong>Pedro Torres</strong><p>Ingenieria. Energias renovables..</p>\",\"URL\":'<a href=\"http://www.gedae.ufpa.br/\" target=\"_blank\">http://www.gedae.ufpa.br/</a>',\"icon\": \"circle\"},\"geometry\": {\"type\": \"Point\",\"coordinates\":[ -48.567302,-1.440444]}}\n",
      " \n",
      ",{\"type\": \"Feature\",\"properties\": {\"description\": \"<strong>Carmen Chavez</strong><p>Conservacion de bosques Amazonicos, educacion para la conservacion. Sur Este Peru.</p>\",\"URL\":'<a href=\"#carmenACEER\" target=\"_blank\">#carmenACEER</a>',\"icon\": \"circle\"},\"geometry\": {\"type\": \"Point\",\"coordinates\":[ -69.191205,-12.627802]}}\n",
      " \n",
      ",{\"type\": \"Feature\",\"properties\": {\"description\": \"<strong>Carmen Chavez</strong><p>Conservacion de bosques Amazonicos, educacion para la conservacion. Sur Este Peru.</p>\",\"URL\":'<a href=\"#carmenACEER\" target=\"_blank\">#carmenACEER</a>',\"icon\": \"circle\"},\"geometry\": {\"type\": \"Point\",\"coordinates\":[ -70.909202,-12.264702]}}\n",
      " \n",
      ",{\"type\": \"Feature\",\"properties\": {\"description\": \"<strong>Pablo Borboroglu</strong><p>Ecologia y Conservacion de pinguinos. Aeas protegidas terrestres y marinas..</p>\",\"URL\":'<a href=\"IG @pabloborboroglu\" target=\"_blank\">IG @pabloborboroglu</a>',\"icon\": \"circle\"},\"geometry\": {\"type\": \"Point\",\"coordinates\":[ -65.03851,-42.7692]}}\n",
      " \n",
      ",{\"type\": \"Feature\",\"properties\": {\"description\": \"<strong>Pablo Borboroglu</strong><p>Ecologia y Conservacion de pinguinos. Aeas protegidas terrestres y marinas..</p>\",\"URL\":'<a href=\"IG @pabloborboroglu\" target=\"_blank\">IG @pabloborboroglu</a>',\"icon\": \"circle\"},\"geometry\": {\"type\": \"Point\",\"coordinates\":[ -66.533,-45.133]}}\n",
      " \n",
      ",{\"type\": \"Feature\",\"properties\": {\"description\": \"<strong>Pablo Borboroglu</strong><p>Ecologia y Conservacion de pinguinos. Aeas protegidas terrestres y marinas..</p>\",\"URL\":'<a href=\"IG @pabloborboroglu\" target=\"_blank\">IG @pabloborboroglu</a>',\"icon\": \"circle\"},\"geometry\": {\"type\": \"Point\",\"coordinates\":[422999,-53]}}\n",
      " \n",
      ",{\"type\": \"Feature\",\"properties\": {\"description\": \"<strong>Pablo Borboroglu</strong><p>Ecologia y Conservacion de pinguinos. Aeas protegidas terrestres y marinas..</p>\",\"URL\":'<a href=\"IG @pabloborboroglu\" target=\"_blank\">IG @pabloborboroglu</a>',\"icon\": \"circle\"},\"geometry\": {\"type\": \"Point\",\"coordinates\":[639992,44]}}\n",
      " \n",
      ",{\"type\": \"Feature\",\"properties\": {\"description\": \"<strong>Pablo Borboroglu</strong><p>Ecologia y Conservacion de pinguinos. Aeas protegidas terrestres y marinas..</p>\",\"URL\":'<a href=\"IG @pabloborboroglu\" target=\"_blank\">IG @pabloborboroglu</a>',\"icon\": \"circle\"},\"geometry\": {\"type\": \"Point\",\"coordinates\":[075223,-42]}}\n",
      " \n",
      ",{\"type\": \"Feature\",\"properties\": {\"description\": \"<strong>Sara Pineda </strong><p>Sistemas socioambientales, metodos participativos.</p>\",\"URL\":'<a href=\"https://www.instagram.com/sarpineda/\" target=\"_blank\">https://www.instagram.com/sarpineda/</a>',\"icon\": \"circle\"},\"geometry\": {\"type\": \"Point\",\"coordinates\":[ - 87.3779,21.5239]}}\n",
      " \n",
      ",{\"type\": \"Feature\",\"properties\": {\"description\": \"<strong>Maria Silvina Fenoglio</strong><p>Ecologia urbana. Entomologia.</p>\",\"URL\":'<a href=\"ma_silvifenoglio (Instagram)\" target=\"_blank\">ma_silvifenoglio (Instagram)</a>',\"icon\": \"circle\"},\"geometry\": {\"type\": \"Point\",\"coordinates\":[ -64.1811,-31.4135]}}\n",
      " \n",
      ",{\"type\": \"Feature\",\"properties\": {\"description\": \"<strong>Diego M. Peralta</strong><p>Ciencia Pura. Genetica de Poblaciones del Leon Marino Sudamericano.</p>\",\"URL\":'<a href=\"https://www.instagram.com/dieggarp\" target=\"_blank\">https://www.instagram.com/dieggarp</a>',\"icon\": \"circle\"},\"geometry\": {\"type\": \"Point\",\"coordinates\":[ -59.087,-34.578]}}\n",
      " \n",
      ",{\"type\": \"Feature\",\"properties\": {\"description\": \"<strong>Diego M. Peralta</strong><p>Ciencia Pura. Genetica de Poblaciones del Leon Marino Sudamericano.</p>\",\"URL\":'<a href=\"https://www.instagram.com/dieggarp\" target=\"_blank\">https://www.instagram.com/dieggarp</a>',\"icon\": \"circle\"},\"geometry\": {\"type\": \"Point\",\"coordinates\":[ -68.6989,-50.2698]}}\n",
      " \n",
      ",{\"type\": \"Feature\",\"properties\": {\"description\": \"<strong>Diego M. Peralta</strong><p>Ciencia Pura. Genetica de Poblaciones del Leon Marino Sudamericano.</p>\",\"URL\":'<a href=\"https://www.instagram.com/dieggarp\" target=\"_blank\">https://www.instagram.com/dieggarp</a>',\"icon\": \"circle\"},\"geometry\": {\"type\": \"Point\",\"coordinates\":[ -65.1181,-54.6569]}}\n",
      " \n",
      ",{\"type\": \"Feature\",\"properties\": {\"description\": \"<strong>Rocio Gomez</strong><p>Antropologia Genetica. Colonizacion de America.</p>\",\"URL\":'<a href=\"rogomezo_dna\" target=\"_blank\">rogomezo_dna</a>',\"icon\": \"circle\"},\"geometry\": {\"type\": \"Point\",\"coordinates\":[ -102.553,23.635]}}\n",
      " \n",
      ",{\"type\": \"Feature\",\"properties\": {\"description\": \"<strong>Rocio Gomez</strong><p>Antropologia Genetica. Colonizacion de America.</p>\",\"URL\":'<a href=\"rogomezo_dna\" target=\"_blank\">rogomezo_dna</a>',\"icon\": \"circle\"},\"geometry\": {\"type\": \"Point\",\"coordinates\":[ -96.713226,17.054230]}}\n",
      " \n",
      ",{\"type\": \"Feature\",\"properties\": {\"description\": \"<strong>Rocio Gomez</strong><p>Antropologia Genetica. Colonizacion de America.</p>\",\"URL\":'<a href=\"rogomezo_dna\" target=\"_blank\">rogomezo_dna</a>',\"icon\": \"circle\"},\"geometry\": {\"type\": \"Point\",\"coordinates\":[ -92.255280,16.258600]}}\n",
      " \n",
      ",{\"type\": \"Feature\",\"properties\": {\"description\": \"<strong>Marina Arbetman</strong><p>Conservacion/Ecologia molecular. Invasiones de abejorros.</p>\",\"URL\":'<a href=\"https://sites.google.com/view/ecopol/home?authuser=0\" target=\"_blank\">https://sites.google.com/view/ecopol/home?authuser=0</a>',\"icon\": \"circle\"},\"geometry\": {\"type\": \"Point\",\"coordinates\":[ -71.313913,-41.142587]}}\n",
      " \n",
      ",{\"type\": \"Feature\",\"properties\": {\"description\": \"<strong>Priscilla Campos</strong><p>Conservation. Ecology reef corals..</p>\",\"URL\":'<a href=\"www.oceanlive.home.blog\" target=\"_blank\">www.oceanlive.home.blog</a>',\"icon\": \"circle\"},\"geometry\": {\"type\": \"Point\",\"coordinates\":[\t-38.627.182,12.810.398]}}\n",
      " \n",
      ",{\"type\": \"Feature\",\"properties\": {\"description\": \"<strong>Lucia Rodriguez-Planes</strong><p>Conservacion. Manejo de especies invasoras..</p>\",\"URL\":'<a href=\"IG @luciarplanes \" target=\"_blank\">IG @luciarplanes </a>',\"icon\": \"circle\"},\"geometry\": {\"type\": \"Point\",\"coordinates\":[ -68.506231,-54.84175]}}\n",
      " \n",
      ",{\"type\": \"Feature\",\"properties\": {\"description\": \"<strong>Laura Rodriguez</strong><p>Conservacion. Conectividad genetica. Corales mesofoticos. Ecologia. Geomorfologia..</p>\",\"URL\":'<a href=\"instagram: @laurodrim\" target=\"_blank\">instagram: @laurodrim</a>',\"icon\": \"circle\"},\"geometry\": {\"type\": \"Point\",\"coordinates\":[-75.618472,10.261833 ]}}\n",
      " \n",
      ",{\"type\": \"Feature\",\"properties\": {\"description\": \"<strong>Marissa</strong><p>Biotech water treatment.</p>\",\"URL\":'<a href=\"www.microterra.com.mx\" target=\"_blank\">www.microterra.com.mx</a>',\"icon\": \"circle\"},\"geometry\": {\"type\": \"Point\",\"coordinates\":[ -101.329199,20.720274]}}\n",
      " \n",
      ",{\"type\": \"Feature\",\"properties\": {\"description\": \"<strong>Giulliana Appel</strong><p>Ciencia pura. Ecology of bats..</p>\",\"URL\":'<a href=\"NaN\" target=\"_blank\">NaN</a>',\"icon\": \"circle\"},\"geometry\": {\"type\": \"Point\",\"coordinates\":[ 60.00000000,2.50000000]}}\n",
      " \n",
      ",{\"type\": \"Feature\",\"properties\": {\"description\": \"<strong>Martin Blettler</strong><p>Ciencia aplicada. Medio-ambiente. Contaminacion plastica. Grandes rios.</p>\",\"URL\":'<a href=\"https://www.researchgate.net/profile/Martin_Blettler \" target=\"_blank\">https://www.researchgate.net/profile/Martin_Blettler </a>',\"icon\": \"circle\"},\"geometry\": {\"type\": \"Point\",\"coordinates\":[ -60.52379,-31.73196]}}\n",
      " \n",
      ",{\"type\": \"Feature\",\"properties\": {\"description\": \"<strong>Vinicius Alberici</strong><p>Ecologia y conservacion del oso hormiguero.</p>\",\"URL\":'<a href=\"https://www.instagram.com/bandeiraserodovias/\" target=\"_blank\">https://www.instagram.com/bandeiraserodovias/</a>',\"icon\": \"circle\"},\"geometry\": {\"type\": \"Point\",\"coordinates\":[107483,-21]}}\n",
      " \n",
      ",{\"type\": \"Feature\",\"properties\": {\"description\": \"<strong>Vinicius Alberici</strong><p>Ecologia y conservacion del oso hormiguero.</p>\",\"URL\":'<a href=\"https://www.instagram.com/bandeiraserodovias/\" target=\"_blank\">https://www.instagram.com/bandeiraserodovias/</a>',\"icon\": \"circle\"},\"geometry\": {\"type\": \"Point\",\"coordinates\":[638160,-21]}}\n",
      " \n",
      ",{\"type\": \"Feature\",\"properties\": {\"description\": \"<strong>Antonio de la Torre</strong><p>Wildlife Ecology & Conservation.</p>\",\"URL\":'<a href=\"Instagram: @jaguaresdelaselvamaya\" target=\"_blank\">Instagram: @jaguaresdelaselvamaya</a>',\"icon\": \"circle\"},\"geometry\": {\"type\": \"Point\",\"coordinates\":[ -90.938489,16.777347]}}\n",
      " \n",
      ",{\"type\": \"Feature\",\"properties\": {\"description\": \"<strong>Antonio de la Torre</strong><p>Wildlife Ecology & Conservation.</p>\",\"URL\":'<a href=\"Instagram: @jaguaresdelaselvamaya\" target=\"_blank\">Instagram: @jaguaresdelaselvamaya</a>',\"icon\": \"circle\"},\"geometry\": {\"type\": \"Point\",\"coordinates\":[ -90.863875,16.152929]}}\n",
      " \n",
      ",{\"type\": \"Feature\",\"properties\": {\"description\": \"<strong>Antonio de la Torre</strong><p>Wildlife Ecology & Conservation.</p>\",\"URL\":'<a href=\"Instagram: @jaguaresdelaselvamaya\" target=\"_blank\">Instagram: @jaguaresdelaselvamaya</a>',\"icon\": \"circle\"},\"geometry\": {\"type\": \"Point\",\"coordinates\":[ -91.213268,16.333373]}}\n",
      " \n",
      ",{\"type\": \"Feature\",\"properties\": {\"description\": \"<strong>Antonio de la Torre</strong><p>Wildlife Ecology & Conservation.</p>\",\"URL\":'<a href=\"Instagram: @jaguaresdelaselvamaya\" target=\"_blank\">Instagram: @jaguaresdelaselvamaya</a>',\"icon\": \"circle\"},\"geometry\": {\"type\": \"Point\",\"coordinates\":[ -93.434121,15.970808]}}\n",
      " \n",
      ",{\"type\": \"Feature\",\"properties\": {\"description\": \"<strong>Begona Inarritu</strong><p>Conservacion y Conducta Animal.</p>\",\"URL\":'<a href=\"@begambilia\" target=\"_blank\">@begambilia</a>',\"icon\": \"circle\"},\"geometry\": {\"type\": \"Point\",\"coordinates\":[ -99.177,19.432]}}\n",
      " \n",
      ",{\"type\": \"Feature\",\"properties\": {\"description\": \"<strong>Begona Inarritu</strong><p>Conservacion y Conducta Animal.</p>\",\"URL\":'<a href=\"@begambilia\" target=\"_blank\">@begambilia</a>',\"icon\": \"circle\"},\"geometry\": {\"type\": \"Point\",\"coordinates\":[ 31.647,-113.481]}}\n",
      " \n",
      ",{\"type\": \"Feature\",\"properties\": {\"description\": \"<strong>Angelo Bernardino</strong><p>Land use changes in Amazon mangroves.</p>\",\"URL\":'<a href=\"Brazil blue carbon\" target=\"_blank\">Brazil blue carbon</a>',\"icon\": \"circle\"},\"geometry\": {\"type\": \"Point\",\"coordinates\":[-47.955,0.7567]}}\n",
      " \n",
      ",{\"type\": \"Feature\",\"properties\": {\"description\": \"<strong>Andres Ruzo</strong><p>Geotermia y conservacion .</p>\",\"URL\":'<a href=\"https://www.instagram.com/andresruzo/?hl=en\" target=\"_blank\">https://www.instagram.com/andresruzo/?hl=en</a>',\"icon\": \"circle\"},\"geometry\": {\"type\": \"Point\",\"coordinates\":[ -74.726901,-8.812827]}}\n",
      " \n",
      ",{\"type\": \"Feature\",\"properties\": {\"description\": \"<strong>Andres Ruzo</strong><p>Geotermia y conservacion .</p>\",\"URL\":'<a href=\"https://www.instagram.com/andresruzo/?hl=en\" target=\"_blank\">https://www.instagram.com/andresruzo/?hl=en</a>',\"icon\": \"circle\"},\"geometry\": {\"type\": \"Point\",\"coordinates\":[ -80.279194,25.718492]}}\n",
      " \n",
      ",{\"type\": \"Feature\",\"properties\": {\"description\": \"<strong>Andres Ruzo</strong><p>Geotermia y conservacion .</p>\",\"URL\":'<a href=\"https://www.instagram.com/andresruzo/?hl=en\" target=\"_blank\">https://www.instagram.com/andresruzo/?hl=en</a>',\"icon\": \"circle\"},\"geometry\": {\"type\": \"Point\",\"coordinates\":[ -77.036091,-12.104493]}}\n",
      " \n",
      ",{\"type\": \"Feature\",\"properties\": {\"description\": \"<strong>Andres Ruzo</strong><p>Geotermia y conservacion .</p>\",\"URL\":'<a href=\"https://www.instagram.com/andresruzo/?hl=en\" target=\"_blank\">https://www.instagram.com/andresruzo/?hl=en</a>',\"icon\": \"circle\"},\"geometry\": {\"type\": \"Point\",\"coordinates\":[ -86.953647,12.669584]}}\n",
      " \n",
      ",{\"type\": \"Feature\",\"properties\": {\"description\": \"<strong>Andres Ruzo</strong><p>Geotermia y conservacion .</p>\",\"URL\":'<a href=\"https://www.instagram.com/andresruzo/?hl=en\" target=\"_blank\">https://www.instagram.com/andresruzo/?hl=en</a>',\"icon\": \"circle\"},\"geometry\": {\"type\": \"Point\",\"coordinates\":[ -74.568713,-8.393279]}}\n",
      " \n",
      ",{\"type\": \"Feature\",\"properties\": {\"description\": \"<strong>Andres Ruzo</strong><p>Geotermia y conservacion .</p>\",\"URL\":'<a href=\"https://www.instagram.com/andresruzo/?hl=en\" target=\"_blank\">https://www.instagram.com/andresruzo/?hl=en</a>',\"icon\": \"circle\"},\"geometry\": {\"type\": \"Point\",\"coordinates\":[ -96.784336,32.846291]}}\n",
      " \n",
      ",{\"type\": \"Feature\",\"properties\": {\"description\": \"<strong>Andres Ruzo</strong><p>Geotermia y conservacion .</p>\",\"URL\":'<a href=\"https://www.instagram.com/andresruzo/?hl=en\" target=\"_blank\">https://www.instagram.com/andresruzo/?hl=en</a>',\"icon\": \"circle\"},\"geometry\": {\"type\": \"Point\",\"coordinates\":[ -81.070843,-4.111194]}}\n",
      " \n",
      ",{\"type\": \"Feature\",\"properties\": {\"description\": \"<strong>Victoria Jimenez Esquivel</strong><p>Manejo Pesquero. Tecnologia y Sistemas de Informacion Geografica.</p>\",\"URL\":'<a href=\"IG: mar.jimeneze\" target=\"_blank\">IG: mar.jimeneze</a>',\"icon\": \"circle\"},\"geometry\": {\"type\": \"Point\",\"coordinates\":[ -110.339076,24.142712]}}\n",
      " \n"
     ]
    }
   ],
   "source": [
    "for person_loc in html_text_list:\n",
    "    print(person_loc)\n",
    "    print(\" \")"
   ]
  },
  {
   "cell_type": "code",
   "execution_count": 214,
   "metadata": {},
   "outputs": [
    {
     "data": {
      "text/plain": [
       "'[[-32.605006°,-69.364833°],[-34.232301°,-69.702353°]]'"
      ]
     },
     "execution_count": 214,
     "metadata": {},
     "output_type": "execute_result"
    }
   ],
   "source": [
    "\n",
    "explorers['latlong'][5].replace(\" \", \"\")"
   ]
  },
  {
   "cell_type": "code",
   "execution_count": 211,
   "metadata": {},
   "outputs": [
    {
     "name": "stdout",
     "output_type": "stream",
     "text": [
      "-23.565060, -46.731442\n"
     ]
    }
   ],
   "source": [
    "result = re.search('\\[(.*)\\]', explorers['latlong'][2])\n",
    "print(result.group(1))"
   ]
  },
  {
   "cell_type": "code",
   "execution_count": 101,
   "metadata": {},
   "outputs": [],
   "source": [
    "this_location = explorers[\"latlong\"][1].split(\"\\n\")"
   ]
  },
  {
   "cell_type": "code",
   "execution_count": 111,
   "metadata": {},
   "outputs": [
    {
     "name": "stdout",
     "output_type": "stream",
     "text": [
      "[1.011722, -76.839225]\n",
      "[6.945310, -75.828746]\n",
      "\n",
      "\n",
      "\n"
     ]
    }
   ],
   "source": [
    "for i in range(0,len(this_location)):\n",
    "    \n",
    "    if \",\" in i:\n",
    "        html_string = write_string(name,description,URL,latlong)\n",
    "        "
   ]
  },
  {
   "cell_type": "code",
   "execution_count": 16,
   "metadata": {},
   "outputs": [
    {
     "data": {
      "text/plain": [
       "['[1.011722, -76.839225]', '[6.945310, -75.828746]', '', '', '']"
      ]
     },
     "execution_count": 16,
     "metadata": {},
     "output_type": "execute_result"
    }
   ],
   "source": [
    "this_location = explorers[\"latlong\"][1].split(\"\\n\")\n",
    "this_location"
   ]
  },
  {
   "cell_type": "code",
   "execution_count": 135,
   "metadata": {},
   "outputs": [],
   "source": [
    "if explorers[\"link\"][1] == \"nan\":\n",
    "    URL = \"oso\""
   ]
  },
  {
   "cell_type": "code",
   "execution_count": 133,
   "metadata": {},
   "outputs": [
    {
     "data": {
      "text/plain": [
       "nan"
      ]
     },
     "execution_count": 133,
     "metadata": {},
     "output_type": "execute_result"
    }
   ],
   "source": [
    "explorers[\"link\"][1]"
   ]
  },
  {
   "cell_type": "code",
   "execution_count": 137,
   "metadata": {},
   "outputs": [
    {
     "name": "stdout",
     "output_type": "stream",
     "text": [
      "oso\n"
     ]
    }
   ],
   "source": [
    "import math\n",
    "\n",
    "if math.isnan(explorers[\"link\"][1]) is True:\n",
    "    print(\"oso\")"
   ]
  },
  {
   "cell_type": "code",
   "execution_count": 140,
   "metadata": {},
   "outputs": [
    {
     "data": {
      "text/plain": [
       "True"
      ]
     },
     "execution_count": 140,
     "metadata": {},
     "output_type": "execute_result"
    }
   ],
   "source": [
    "if isinstance(\"oso\", str) is \n",
    "\n",
    "res"
   ]
  },
  {
   "cell_type": "code",
   "execution_count": 173,
   "metadata": {},
   "outputs": [
    {
     "data": {
      "text/plain": [
       "''"
      ]
     },
     "execution_count": 173,
     "metadata": {},
     "output_type": "execute_result"
    }
   ],
   "source": [
    "location"
   ]
  },
  {
   "cell_type": "code",
   "execution_count": null,
   "metadata": {},
   "outputs": [],
   "source": []
  }
 ],
 "metadata": {
  "kernelspec": {
   "display_name": "Python 3",
   "language": "python",
   "name": "python3"
  },
  "language_info": {
   "codemirror_mode": {
    "name": "ipython",
    "version": 3
   },
   "file_extension": ".py",
   "mimetype": "text/x-python",
   "name": "python",
   "nbconvert_exporter": "python",
   "pygments_lexer": "ipython3",
   "version": "3.6.5"
  }
 },
 "nbformat": 4,
 "nbformat_minor": 2
}
